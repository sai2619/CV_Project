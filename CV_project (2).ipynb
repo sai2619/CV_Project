{
  "cells": [
    {
      "cell_type": "markdown",
      "metadata": {
        "id": "giZCEBJq7JkK"
      },
      "source": [
        "# Importing Libraries"
      ]
    },
    {
      "cell_type": "code",
      "execution_count": 1,
      "metadata": {
        "colab": {
          "base_uri": "https://localhost:8080/"
        },
        "id": "K6DM7h8My0MI",
        "outputId": "a2f9fe85-43ff-4836-ed89-56e09552a027"
      },
      "outputs": [
        {
          "name": "stdout",
          "output_type": "stream",
          "text": [
            "Collecting pytesseract\n",
            "  Downloading pytesseract-0.3.13-py3-none-any.whl.metadata (11 kB)\n",
            "Requirement already satisfied: packaging>=21.3 in /usr/local/lib/python3.11/dist-packages (from pytesseract) (24.2)\n",
            "Requirement already satisfied: Pillow>=8.0.0 in /usr/local/lib/python3.11/dist-packages (from pytesseract) (11.2.1)\n",
            "Downloading pytesseract-0.3.13-py3-none-any.whl (14 kB)\n",
            "Installing collected packages: pytesseract\n",
            "Successfully installed pytesseract-0.3.13\n"
          ]
        }
      ],
      "source": [
        "!pip install pytesseract"
      ]
    },
    {
      "cell_type": "code",
      "execution_count": 2,
      "metadata": {
        "id": "xJqZmIfhADvg"
      },
      "outputs": [],
      "source": [
        "import os\n",
        "import matplotlib.pyplot as plt\n",
        "import cv2\n",
        "import pytesseract\n",
        "import numpy as np\n",
        "\n",
        "\n",
        "from skimage.feature import graycomatrix\n",
        "\n",
        "from scipy.stats import entropy\n"
      ]
    },
    {
      "cell_type": "code",
      "execution_count": 3,
      "metadata": {
        "colab": {
          "base_uri": "https://localhost:8080/"
        },
        "id": "JOj5CVJsAaiw",
        "outputId": "0552acd0-eefd-4d3e-fcd1-73e9b324f3db"
      },
      "outputs": [
        {
          "name": "stdout",
          "output_type": "stream",
          "text": [
            "Reading package lists... Done\n",
            "Building dependency tree... Done\n",
            "Reading state information... Done\n",
            "tesseract-ocr is already the newest version (4.1.1-2.1build1).\n",
            "0 upgraded, 0 newly installed, 0 to remove and 34 not upgraded.\n",
            "Requirement already satisfied: pytesseract in /usr/local/lib/python3.11/dist-packages (0.3.13)\n",
            "Requirement already satisfied: packaging>=21.3 in /usr/local/lib/python3.11/dist-packages (from pytesseract) (24.2)\n",
            "Requirement already satisfied: Pillow>=8.0.0 in /usr/local/lib/python3.11/dist-packages (from pytesseract) (11.2.1)\n",
            "Requirement already satisfied: scikit-image in /usr/local/lib/python3.11/dist-packages (0.25.2)\n",
            "Requirement already satisfied: numpy>=1.24 in /usr/local/lib/python3.11/dist-packages (from scikit-image) (2.0.2)\n",
            "Requirement already satisfied: scipy>=1.11.4 in /usr/local/lib/python3.11/dist-packages (from scikit-image) (1.15.2)\n",
            "Requirement already satisfied: networkx>=3.0 in /usr/local/lib/python3.11/dist-packages (from scikit-image) (3.4.2)\n",
            "Requirement already satisfied: pillow>=10.1 in /usr/local/lib/python3.11/dist-packages (from scikit-image) (11.2.1)\n",
            "Requirement already satisfied: imageio!=2.35.0,>=2.33 in /usr/local/lib/python3.11/dist-packages (from scikit-image) (2.37.0)\n",
            "Requirement already satisfied: tifffile>=2022.8.12 in /usr/local/lib/python3.11/dist-packages (from scikit-image) (2025.3.30)\n",
            "Requirement already satisfied: packaging>=21 in /usr/local/lib/python3.11/dist-packages (from scikit-image) (24.2)\n",
            "Requirement already satisfied: lazy-loader>=0.4 in /usr/local/lib/python3.11/dist-packages (from scikit-image) (0.4)\n",
            "Collecting easyocr\n",
            "  Downloading easyocr-1.7.2-py3-none-any.whl.metadata (10 kB)\n",
            "Requirement already satisfied: torch in /usr/local/lib/python3.11/dist-packages (from easyocr) (2.6.0+cu124)\n",
            "Requirement already satisfied: torchvision>=0.5 in /usr/local/lib/python3.11/dist-packages (from easyocr) (0.21.0+cu124)\n",
            "Requirement already satisfied: opencv-python-headless in /usr/local/lib/python3.11/dist-packages (from easyocr) (4.11.0.86)\n",
            "Requirement already satisfied: scipy in /usr/local/lib/python3.11/dist-packages (from easyocr) (1.15.2)\n",
            "Requirement already satisfied: numpy in /usr/local/lib/python3.11/dist-packages (from easyocr) (2.0.2)\n",
            "Requirement already satisfied: Pillow in /usr/local/lib/python3.11/dist-packages (from easyocr) (11.2.1)\n",
            "Requirement already satisfied: scikit-image in /usr/local/lib/python3.11/dist-packages (from easyocr) (0.25.2)\n",
            "Collecting python-bidi (from easyocr)\n",
            "  Downloading python_bidi-0.6.6-cp311-cp311-manylinux_2_17_x86_64.manylinux2014_x86_64.whl.metadata (4.9 kB)\n",
            "Requirement already satisfied: PyYAML in /usr/local/lib/python3.11/dist-packages (from easyocr) (6.0.2)\n",
            "Requirement already satisfied: Shapely in /usr/local/lib/python3.11/dist-packages (from easyocr) (2.1.0)\n",
            "Collecting pyclipper (from easyocr)\n",
            "  Downloading pyclipper-1.3.0.post6-cp311-cp311-manylinux_2_17_x86_64.manylinux2014_x86_64.whl.metadata (9.0 kB)\n",
            "Collecting ninja (from easyocr)\n",
            "  Downloading ninja-1.11.1.4-py3-none-manylinux_2_12_x86_64.manylinux2010_x86_64.whl.metadata (5.0 kB)\n",
            "Requirement already satisfied: filelock in /usr/local/lib/python3.11/dist-packages (from torch->easyocr) (3.18.0)\n",
            "Requirement already satisfied: typing-extensions>=4.10.0 in /usr/local/lib/python3.11/dist-packages (from torch->easyocr) (4.13.2)\n",
            "Requirement already satisfied: networkx in /usr/local/lib/python3.11/dist-packages (from torch->easyocr) (3.4.2)\n",
            "Requirement already satisfied: jinja2 in /usr/local/lib/python3.11/dist-packages (from torch->easyocr) (3.1.6)\n",
            "Requirement already satisfied: fsspec in /usr/local/lib/python3.11/dist-packages (from torch->easyocr) (2025.3.2)\n",
            "Collecting nvidia-cuda-nvrtc-cu12==12.4.127 (from torch->easyocr)\n",
            "  Downloading nvidia_cuda_nvrtc_cu12-12.4.127-py3-none-manylinux2014_x86_64.whl.metadata (1.5 kB)\n",
            "Collecting nvidia-cuda-runtime-cu12==12.4.127 (from torch->easyocr)\n",
            "  Downloading nvidia_cuda_runtime_cu12-12.4.127-py3-none-manylinux2014_x86_64.whl.metadata (1.5 kB)\n",
            "Collecting nvidia-cuda-cupti-cu12==12.4.127 (from torch->easyocr)\n",
            "  Downloading nvidia_cuda_cupti_cu12-12.4.127-py3-none-manylinux2014_x86_64.whl.metadata (1.6 kB)\n",
            "Collecting nvidia-cudnn-cu12==9.1.0.70 (from torch->easyocr)\n",
            "  Downloading nvidia_cudnn_cu12-9.1.0.70-py3-none-manylinux2014_x86_64.whl.metadata (1.6 kB)\n",
            "Collecting nvidia-cublas-cu12==12.4.5.8 (from torch->easyocr)\n",
            "  Downloading nvidia_cublas_cu12-12.4.5.8-py3-none-manylinux2014_x86_64.whl.metadata (1.5 kB)\n",
            "Collecting nvidia-cufft-cu12==11.2.1.3 (from torch->easyocr)\n",
            "  Downloading nvidia_cufft_cu12-11.2.1.3-py3-none-manylinux2014_x86_64.whl.metadata (1.5 kB)\n",
            "Collecting nvidia-curand-cu12==10.3.5.147 (from torch->easyocr)\n",
            "  Downloading nvidia_curand_cu12-10.3.5.147-py3-none-manylinux2014_x86_64.whl.metadata (1.5 kB)\n",
            "Collecting nvidia-cusolver-cu12==11.6.1.9 (from torch->easyocr)\n",
            "  Downloading nvidia_cusolver_cu12-11.6.1.9-py3-none-manylinux2014_x86_64.whl.metadata (1.6 kB)\n",
            "Collecting nvidia-cusparse-cu12==12.3.1.170 (from torch->easyocr)\n",
            "  Downloading nvidia_cusparse_cu12-12.3.1.170-py3-none-manylinux2014_x86_64.whl.metadata (1.6 kB)\n",
            "Requirement already satisfied: nvidia-cusparselt-cu12==0.6.2 in /usr/local/lib/python3.11/dist-packages (from torch->easyocr) (0.6.2)\n",
            "Requirement already satisfied: nvidia-nccl-cu12==2.21.5 in /usr/local/lib/python3.11/dist-packages (from torch->easyocr) (2.21.5)\n",
            "Requirement already satisfied: nvidia-nvtx-cu12==12.4.127 in /usr/local/lib/python3.11/dist-packages (from torch->easyocr) (12.4.127)\n",
            "Collecting nvidia-nvjitlink-cu12==12.4.127 (from torch->easyocr)\n",
            "  Downloading nvidia_nvjitlink_cu12-12.4.127-py3-none-manylinux2014_x86_64.whl.metadata (1.5 kB)\n",
            "Requirement already satisfied: triton==3.2.0 in /usr/local/lib/python3.11/dist-packages (from torch->easyocr) (3.2.0)\n",
            "Requirement already satisfied: sympy==1.13.1 in /usr/local/lib/python3.11/dist-packages (from torch->easyocr) (1.13.1)\n",
            "Requirement already satisfied: mpmath<1.4,>=1.1.0 in /usr/local/lib/python3.11/dist-packages (from sympy==1.13.1->torch->easyocr) (1.3.0)\n",
            "Requirement already satisfied: imageio!=2.35.0,>=2.33 in /usr/local/lib/python3.11/dist-packages (from scikit-image->easyocr) (2.37.0)\n",
            "Requirement already satisfied: tifffile>=2022.8.12 in /usr/local/lib/python3.11/dist-packages (from scikit-image->easyocr) (2025.3.30)\n",
            "Requirement already satisfied: packaging>=21 in /usr/local/lib/python3.11/dist-packages (from scikit-image->easyocr) (24.2)\n",
            "Requirement already satisfied: lazy-loader>=0.4 in /usr/local/lib/python3.11/dist-packages (from scikit-image->easyocr) (0.4)\n",
            "Requirement already satisfied: MarkupSafe>=2.0 in /usr/local/lib/python3.11/dist-packages (from jinja2->torch->easyocr) (3.0.2)\n",
            "Downloading easyocr-1.7.2-py3-none-any.whl (2.9 MB)\n",
            "\u001b[2K   \u001b[90m━━━━━━━━━━━━━━━━━━━━━━━━━━━━━━━━━━━━━━━━\u001b[0m \u001b[32m2.9/2.9 MB\u001b[0m \u001b[31m46.7 MB/s\u001b[0m eta \u001b[36m0:00:00\u001b[0m\n",
            "\u001b[?25hDownloading nvidia_cublas_cu12-12.4.5.8-py3-none-manylinux2014_x86_64.whl (363.4 MB)\n",
            "\u001b[2K   \u001b[90m━━━━━━━━━━━━━━━━━━━━━━━━━━━━━━━━━━━━━━━━\u001b[0m \u001b[32m363.4/363.4 MB\u001b[0m \u001b[31m1.8 MB/s\u001b[0m eta \u001b[36m0:00:00\u001b[0m\n",
            "\u001b[?25hDownloading nvidia_cuda_cupti_cu12-12.4.127-py3-none-manylinux2014_x86_64.whl (13.8 MB)\n",
            "\u001b[2K   \u001b[90m━━━━━━━━━━━━━━━━━━━━━━━━━━━━━━━━━━━━━━━━\u001b[0m \u001b[32m13.8/13.8 MB\u001b[0m \u001b[31m74.1 MB/s\u001b[0m eta \u001b[36m0:00:00\u001b[0m\n",
            "\u001b[?25hDownloading nvidia_cuda_nvrtc_cu12-12.4.127-py3-none-manylinux2014_x86_64.whl (24.6 MB)\n",
            "\u001b[2K   \u001b[90m━━━━━━━━━━━━━━━━━━━━━━━━━━━━━━━━━━━━━━━━\u001b[0m \u001b[32m24.6/24.6 MB\u001b[0m \u001b[31m60.5 MB/s\u001b[0m eta \u001b[36m0:00:00\u001b[0m\n",
            "\u001b[?25hDownloading nvidia_cuda_runtime_cu12-12.4.127-py3-none-manylinux2014_x86_64.whl (883 kB)\n",
            "\u001b[2K   \u001b[90m━━━━━━━━━━━━━━━━━━━━━━━━━━━━━━━━━━━━━━━━\u001b[0m \u001b[32m883.7/883.7 kB\u001b[0m \u001b[31m25.9 MB/s\u001b[0m eta \u001b[36m0:00:00\u001b[0m\n",
            "\u001b[?25hDownloading nvidia_cudnn_cu12-9.1.0.70-py3-none-manylinux2014_x86_64.whl (664.8 MB)\n",
            "\u001b[2K   \u001b[90m━━━━━━━━━━━━━━━━━━━━━━━━━━━━━━━━━━━━━━━━\u001b[0m \u001b[32m664.8/664.8 MB\u001b[0m \u001b[31m2.1 MB/s\u001b[0m eta \u001b[36m0:00:00\u001b[0m\n",
            "\u001b[?25hDownloading nvidia_cufft_cu12-11.2.1.3-py3-none-manylinux2014_x86_64.whl (211.5 MB)\n",
            "\u001b[2K   \u001b[90m━━━━━━━━━━━━━━━━━━━━━━━━━━━━━━━━━━━━━━━━\u001b[0m \u001b[32m211.5/211.5 MB\u001b[0m \u001b[31m5.5 MB/s\u001b[0m eta \u001b[36m0:00:00\u001b[0m\n",
            "\u001b[?25hDownloading nvidia_curand_cu12-10.3.5.147-py3-none-manylinux2014_x86_64.whl (56.3 MB)\n",
            "\u001b[2K   \u001b[90m━━━━━━━━━━━━━━━━━━━━━━━━━━━━━━━━━━━━━━━━\u001b[0m \u001b[32m56.3/56.3 MB\u001b[0m \u001b[31m13.1 MB/s\u001b[0m eta \u001b[36m0:00:00\u001b[0m\n",
            "\u001b[?25hDownloading nvidia_cusolver_cu12-11.6.1.9-py3-none-manylinux2014_x86_64.whl (127.9 MB)\n",
            "\u001b[2K   \u001b[90m━━━━━━━━━━━━━━━━━━━━━━━━━━━━━━━━━━━━━━━━\u001b[0m \u001b[32m127.9/127.9 MB\u001b[0m \u001b[31m7.5 MB/s\u001b[0m eta \u001b[36m0:00:00\u001b[0m\n",
            "\u001b[?25hDownloading nvidia_cusparse_cu12-12.3.1.170-py3-none-manylinux2014_x86_64.whl (207.5 MB)\n",
            "\u001b[2K   \u001b[90m━━━━━━━━━━━━━━━━━━━━━━━━━━━━━━━━━━━━━━━━\u001b[0m \u001b[32m207.5/207.5 MB\u001b[0m \u001b[31m4.5 MB/s\u001b[0m eta \u001b[36m0:00:00\u001b[0m\n",
            "\u001b[?25hDownloading nvidia_nvjitlink_cu12-12.4.127-py3-none-manylinux2014_x86_64.whl (21.1 MB)\n",
            "\u001b[2K   \u001b[90m━━━━━━━━━━━━━━━━━━━━━━━━━━━━━━━━━━━━━━━━\u001b[0m \u001b[32m21.1/21.1 MB\u001b[0m \u001b[31m74.2 MB/s\u001b[0m eta \u001b[36m0:00:00\u001b[0m\n",
            "\u001b[?25hDownloading ninja-1.11.1.4-py3-none-manylinux_2_12_x86_64.manylinux2010_x86_64.whl (422 kB)\n",
            "\u001b[2K   \u001b[90m━━━━━━━━━━━━━━━━━━━━━━━━━━━━━━━━━━━━━━━━\u001b[0m \u001b[32m422.8/422.8 kB\u001b[0m \u001b[31m33.9 MB/s\u001b[0m eta \u001b[36m0:00:00\u001b[0m\n",
            "\u001b[?25hDownloading pyclipper-1.3.0.post6-cp311-cp311-manylinux_2_17_x86_64.manylinux2014_x86_64.whl (969 kB)\n",
            "\u001b[2K   \u001b[90m━━━━━━━━━━━━━━━━━━━━━━━━━━━━━━━━━━━━━━━━\u001b[0m \u001b[32m969.6/969.6 kB\u001b[0m \u001b[31m53.1 MB/s\u001b[0m eta \u001b[36m0:00:00\u001b[0m\n",
            "\u001b[?25hDownloading python_bidi-0.6.6-cp311-cp311-manylinux_2_17_x86_64.manylinux2014_x86_64.whl (292 kB)\n",
            "\u001b[2K   \u001b[90m━━━━━━━━━━━━━━━━━━━━━━━━━━━━━━━━━━━━━━━━\u001b[0m \u001b[32m292.9/292.9 kB\u001b[0m \u001b[31m25.8 MB/s\u001b[0m eta \u001b[36m0:00:00\u001b[0m\n",
            "\u001b[?25hInstalling collected packages: python-bidi, pyclipper, nvidia-nvjitlink-cu12, nvidia-curand-cu12, nvidia-cufft-cu12, nvidia-cuda-runtime-cu12, nvidia-cuda-nvrtc-cu12, nvidia-cuda-cupti-cu12, nvidia-cublas-cu12, ninja, nvidia-cusparse-cu12, nvidia-cudnn-cu12, nvidia-cusolver-cu12, easyocr\n",
            "  Attempting uninstall: nvidia-nvjitlink-cu12\n",
            "    Found existing installation: nvidia-nvjitlink-cu12 12.5.82\n",
            "    Uninstalling nvidia-nvjitlink-cu12-12.5.82:\n",
            "      Successfully uninstalled nvidia-nvjitlink-cu12-12.5.82\n",
            "  Attempting uninstall: nvidia-curand-cu12\n",
            "    Found existing installation: nvidia-curand-cu12 10.3.6.82\n",
            "    Uninstalling nvidia-curand-cu12-10.3.6.82:\n",
            "      Successfully uninstalled nvidia-curand-cu12-10.3.6.82\n",
            "  Attempting uninstall: nvidia-cufft-cu12\n",
            "    Found existing installation: nvidia-cufft-cu12 11.2.3.61\n",
            "    Uninstalling nvidia-cufft-cu12-11.2.3.61:\n",
            "      Successfully uninstalled nvidia-cufft-cu12-11.2.3.61\n",
            "  Attempting uninstall: nvidia-cuda-runtime-cu12\n",
            "    Found existing installation: nvidia-cuda-runtime-cu12 12.5.82\n",
            "    Uninstalling nvidia-cuda-runtime-cu12-12.5.82:\n",
            "      Successfully uninstalled nvidia-cuda-runtime-cu12-12.5.82\n",
            "  Attempting uninstall: nvidia-cuda-nvrtc-cu12\n",
            "    Found existing installation: nvidia-cuda-nvrtc-cu12 12.5.82\n",
            "    Uninstalling nvidia-cuda-nvrtc-cu12-12.5.82:\n",
            "      Successfully uninstalled nvidia-cuda-nvrtc-cu12-12.5.82\n",
            "  Attempting uninstall: nvidia-cuda-cupti-cu12\n",
            "    Found existing installation: nvidia-cuda-cupti-cu12 12.5.82\n",
            "    Uninstalling nvidia-cuda-cupti-cu12-12.5.82:\n",
            "      Successfully uninstalled nvidia-cuda-cupti-cu12-12.5.82\n",
            "  Attempting uninstall: nvidia-cublas-cu12\n",
            "    Found existing installation: nvidia-cublas-cu12 12.5.3.2\n",
            "    Uninstalling nvidia-cublas-cu12-12.5.3.2:\n",
            "      Successfully uninstalled nvidia-cublas-cu12-12.5.3.2\n",
            "  Attempting uninstall: nvidia-cusparse-cu12\n",
            "    Found existing installation: nvidia-cusparse-cu12 12.5.1.3\n",
            "    Uninstalling nvidia-cusparse-cu12-12.5.1.3:\n",
            "      Successfully uninstalled nvidia-cusparse-cu12-12.5.1.3\n",
            "  Attempting uninstall: nvidia-cudnn-cu12\n",
            "    Found existing installation: nvidia-cudnn-cu12 9.3.0.75\n",
            "    Uninstalling nvidia-cudnn-cu12-9.3.0.75:\n",
            "      Successfully uninstalled nvidia-cudnn-cu12-9.3.0.75\n",
            "  Attempting uninstall: nvidia-cusolver-cu12\n",
            "    Found existing installation: nvidia-cusolver-cu12 11.6.3.83\n",
            "    Uninstalling nvidia-cusolver-cu12-11.6.3.83:\n",
            "      Successfully uninstalled nvidia-cusolver-cu12-11.6.3.83\n",
            "Successfully installed easyocr-1.7.2 ninja-1.11.1.4 nvidia-cublas-cu12-12.4.5.8 nvidia-cuda-cupti-cu12-12.4.127 nvidia-cuda-nvrtc-cu12-12.4.127 nvidia-cuda-runtime-cu12-12.4.127 nvidia-cudnn-cu12-9.1.0.70 nvidia-cufft-cu12-11.2.1.3 nvidia-curand-cu12-10.3.5.147 nvidia-cusolver-cu12-11.6.1.9 nvidia-cusparse-cu12-12.3.1.170 nvidia-nvjitlink-cu12-12.4.127 pyclipper-1.3.0.post6 python-bidi-0.6.6\n"
          ]
        }
      ],
      "source": [
        "!sudo apt install tesseract-ocr -y\n",
        "!pip install pytesseract\n",
        "!pip install -U scikit-image\n",
        "!pip install easyocr"
      ]
    },
    {
      "cell_type": "code",
      "execution_count": 4,
      "metadata": {
        "colab": {
          "base_uri": "https://localhost:8080/"
        },
        "id": "2xl5CzhePLIN",
        "outputId": "096bc29b-40a7-4a2e-c9a5-b04fe4a4493b"
      },
      "outputs": [
        {
          "name": "stdout",
          "output_type": "stream",
          "text": [
            "Archive:  /content/folder.zip\n",
            "  inflating: /content/folder/scanner dataset/Xerox_Versalink.PDF  \n",
            "  inflating: /content/folder/scanner dataset/Brother.pdf  \n",
            "  inflating: /content/folder/scanner dataset/kyocera-‎5‎.‎2‎.‎2025-‎11‎.‎28‎.‎59.pdf  \n"
          ]
        }
      ],
      "source": [
        "!unzip /content/folder.zip -d /content/folder"
      ]
    },
    {
      "cell_type": "code",
      "execution_count": 5,
      "metadata": {
        "colab": {
          "base_uri": "https://localhost:8080/"
        },
        "id": "Xqej1fzAT0iP",
        "outputId": "3ce3b793-64f4-45c8-cf20-57c45bf4da7d"
      },
      "outputs": [
        {
          "name": "stdout",
          "output_type": "stream",
          "text": [
            "Collecting pdf2image\n",
            "  Downloading pdf2image-1.17.0-py3-none-any.whl.metadata (6.2 kB)\n",
            "Requirement already satisfied: pillow in /usr/local/lib/python3.11/dist-packages (11.2.1)\n",
            "Downloading pdf2image-1.17.0-py3-none-any.whl (11 kB)\n",
            "Installing collected packages: pdf2image\n",
            "Successfully installed pdf2image-1.17.0\n"
          ]
        }
      ],
      "source": [
        "!pip install pdf2image pillow"
      ]
    },
    {
      "cell_type": "code",
      "execution_count": 6,
      "metadata": {
        "colab": {
          "base_uri": "https://localhost:8080/"
        },
        "id": "Xva7Lp-UXrxI",
        "outputId": "57719d33-9913-4c74-dcd9-7596ed29f6b6"
      },
      "outputs": [
        {
          "name": "stdout",
          "output_type": "stream",
          "text": [
            "Reading package lists... Done\n",
            "Building dependency tree... Done\n",
            "Reading state information... Done\n",
            "The following NEW packages will be installed:\n",
            "  poppler-utils\n",
            "0 upgraded, 1 newly installed, 0 to remove and 34 not upgraded.\n",
            "Need to get 186 kB of archives.\n",
            "After this operation, 697 kB of additional disk space will be used.\n",
            "Get:1 http://archive.ubuntu.com/ubuntu jammy-updates/main amd64 poppler-utils amd64 22.02.0-2ubuntu0.8 [186 kB]\n",
            "Fetched 186 kB in 0s (405 kB/s)\n",
            "debconf: unable to initialize frontend: Dialog\n",
            "debconf: (No usable dialog-like program is installed, so the dialog based frontend cannot be used. at /usr/share/perl5/Debconf/FrontEnd/Dialog.pm line 78, <> line 1.)\n",
            "debconf: falling back to frontend: Readline\n",
            "debconf: unable to initialize frontend: Readline\n",
            "debconf: (This frontend requires a controlling tty.)\n",
            "debconf: falling back to frontend: Teletype\n",
            "dpkg-preconfigure: unable to re-open stdin: \n",
            "Selecting previously unselected package poppler-utils.\n",
            "(Reading database ... 126101 files and directories currently installed.)\n",
            "Preparing to unpack .../poppler-utils_22.02.0-2ubuntu0.8_amd64.deb ...\n",
            "Unpacking poppler-utils (22.02.0-2ubuntu0.8) ...\n",
            "Setting up poppler-utils (22.02.0-2ubuntu0.8) ...\n",
            "Processing triggers for man-db (2.10.2-1) ...\n"
          ]
        }
      ],
      "source": [
        "!sudo apt install poppler-utils -y"
      ]
    },
    {
      "cell_type": "markdown",
      "metadata": {},
      "source": [
        "# PDF --> IMAGE"
      ]
    },
    {
      "cell_type": "code",
      "execution_count": null,
      "metadata": {
        "id": "Dy2TcSqnXX4e"
      },
      "outputs": [],
      "source": [
        "import os\n",
        "from pdf2image import convert_from_path\n",
        "import cv2\n",
        "import numpy as np\n",
        "\n",
        "def extract_images_from_pdf(pdf_path, output_folder=None, dpi=300):\n",
        "    images = []\n",
        "    images_path=[]\n",
        "\n",
        "    # Convert PDF pages to PIL images\n",
        "    pil_images = convert_from_path(pdf_path, dpi=dpi)\n",
        "\n",
        "    # Convert PIL images to OpenCV format\n",
        "    for i, pil_img in enumerate(pil_images):\n",
        "        # Convert PIL Image to numpy array\n",
        "        cv_img = np.array(pil_img)\n",
        "        # Convert RGB to BGR\n",
        "        cv_img = cv_img[:, :, ::-1].copy()\n",
        "        images.append(cv_img)\n",
        "\n",
        "        if output_folder:\n",
        "            os.makedirs(output_folder, exist_ok=True)\n",
        "            output_path = os.path.join(output_folder, f\"page_{i+1}.png\")\n",
        "            cv2.imwrite(output_path, cv_img)\n",
        "            images_path.append(output_path)\n",
        "\n",
        "    return images, images_path"
      ]
    },
    {
      "cell_type": "code",
      "execution_count": 8,
      "metadata": {
        "colab": {
          "base_uri": "https://localhost:8080/"
        },
        "id": "gpgYdJZKQIJI",
        "outputId": "410b604a-1708-40dc-acbd-b8181b7cfe77"
      },
      "outputs": [
        {
          "name": "stdout",
          "output_type": "stream",
          "text": [
            "[array([[[254, 254, 254],\n",
            "        [254, 254, 254],\n",
            "        [254, 254, 254],\n",
            "        ...,\n",
            "        [254, 254, 254],\n",
            "        [254, 254, 254],\n",
            "        [254, 254, 254]],\n",
            "\n",
            "       [[254, 254, 254],\n",
            "        [254, 254, 254],\n",
            "        [254, 254, 254],\n",
            "        ...,\n",
            "        [254, 254, 254],\n",
            "        [254, 254, 254],\n",
            "        [254, 254, 254]],\n",
            "\n",
            "       [[254, 254, 254],\n",
            "        [254, 254, 254],\n",
            "        [254, 254, 254],\n",
            "        ...,\n",
            "        [254, 254, 254],\n",
            "        [254, 254, 254],\n",
            "        [254, 254, 254]],\n",
            "\n",
            "       ...,\n",
            "\n",
            "       [[254, 254, 254],\n",
            "        [254, 254, 254],\n",
            "        [254, 254, 254],\n",
            "        ...,\n",
            "        [254, 254, 254],\n",
            "        [254, 254, 254],\n",
            "        [254, 254, 254]],\n",
            "\n",
            "       [[254, 254, 254],\n",
            "        [254, 254, 254],\n",
            "        [254, 254, 254],\n",
            "        ...,\n",
            "        [254, 254, 254],\n",
            "        [254, 254, 254],\n",
            "        [254, 254, 254]],\n",
            "\n",
            "       [[254, 254, 254],\n",
            "        [254, 254, 254],\n",
            "        [254, 254, 254],\n",
            "        ...,\n",
            "        [254, 254, 254],\n",
            "        [254, 254, 254],\n",
            "        [254, 254, 254]]], dtype=uint8)] ['extracted_images/page_1.png']\n"
          ]
        }
      ],
      "source": [
        "pdf_path='/content/Brother.pdf'\n",
        "output_folder = \"extracted_images\"\n",
        "images, images_path = extract_images_from_pdf(pdf_path, output_folder)\n",
        "print(images, images_path)"
      ]
    },
    {
      "cell_type": "code",
      "execution_count": 9,
      "metadata": {
        "id": "E0fma64pAqKN"
      },
      "outputs": [],
      "source": [
        "def input_to_gray (imgPath):\n",
        "  img = plt.imread(imgPath)\n",
        "  gray = 0.2989 * img[:,:,0] + 0.5870 * img[:,:,1] + 0.1140 * img[:,:,2]\n",
        "  return gray"
      ]
    },
    {
      "cell_type": "code",
      "execution_count": null,
      "metadata": {
        "colab": {
          "base_uri": "https://localhost:8080/",
          "height": 435
        },
        "id": "V0vkFadrR5zI",
        "outputId": "82e3c6b5-0673-4e8f-c755-be9c9c2d2d16"
      },
      "outputs": [
        {
          "data": {
            "image/png": "[encoded data removed]",
            "text/plain": [
              "<Figure size 640x480 with 1 Axes>"
            ]
          },
          "metadata": {},
          "output_type": "display_data"
        }
      ],
      "source": [
        "imgPath=images_path\n",
        "for imgPath in imgPath:\n",
        "    img = input_to_gray(imgPath)\n",
        "    plt.imshow(img, cmap='gray')\n",
        "    plt.show()"
      ]
    },
    {
      "cell_type": "markdown",
      "metadata": {
        "id": "7_hyFHEc3_os"
      },
      "source": [
        "# Tesseract OCR"
      ]
    },
    {
      "cell_type": "code",
      "execution_count": 11,
      "metadata": {
        "id": "AknG3Mhg0I9R"
      },
      "outputs": [],
      "source": [
        "import cv2\n",
        "import pytesseract\n",
        "from google.colab.patches import cv2_imshow\n",
        "\n",
        "def extract_character_es(image_path):\n",
        "    # Load image and preprocess\n",
        "    image = cv2.imread(image_path)\n",
        "    gray = cv2.cvtColor(image, cv2.COLOR_BGR2GRAY)\n",
        "\n",
        "    # Binary inverse thresholding\n",
        "    _, thresh = cv2.threshold(gray, 150, 255, cv2.THRESH_BINARY_INV)\n",
        "\n",
        "    # Find contours (characters)\n",
        "    contours, _ = cv2.findContours(thresh, cv2.RETR_EXTERNAL, cv2.CHAIN_APPROX_SIMPLE)\n",
        "\n",
        "    cropped_es = []\n",
        "\n",
        "    for cnt in contours:\n",
        "        x, y, w, h = cv2.boundingRect(cnt)\n",
        "        # Ignore too small/large contours\n",
        "        if h < 10 or w < 10 or h > 100 or w > 100:\n",
        "            continue\n",
        "\n",
        "        char_img = image[y:y+h, x:x+w]\n",
        "\n",
        "        # Recognize character using Tesseract\n",
        "        char_gray = cv2.cvtColor(char_img, cv2.COLOR_BGR2GRAY)\n",
        "        char_resized = cv2.resize(char_gray, (30, 30))\n",
        "        _, char_thresh = cv2.threshold(char_resized, 0, 255, cv2.THRESH_BINARY + cv2.THRESH_OTSU)\n",
        "\n",
        "        recognized = pytesseract.image_to_string(char_thresh, config='--psm 10 -c tessedit_char_whitelist=eE').strip()\n",
        "\n",
        "        if recognized.lower() == 'e':\n",
        "            cropped_es.append(char_img)\n",
        "            cv2.rectangle(image, (x, y), (x+w, y+h), (0, 255, 0), 1)\n",
        "\n",
        "    # print(f\"Found {len(cropped_es)} 'e's\")\n",
        "    # cv2_imshow(image)\n",
        "\n",
        "    # for idx, e in enumerate(cropped_es):\n",
        "    #     print(f\"'e' #{idx+1}\")\n",
        "    #     cv2_imshow(e)\n",
        "\n",
        "    return cropped_es\n"
      ]
    },
    {
      "cell_type": "code",
      "execution_count": 12,
      "metadata": {
        "colab": {
          "base_uri": "https://localhost:8080/"
        },
        "id": "EhoEjM_PSqKH",
        "outputId": "e13f4b6d-eb8a-48e4-a9c0-1bf42300465e"
      },
      "outputs": [
        {
          "name": "stdout",
          "output_type": "stream",
          "text": [
            "153\n"
          ]
        }
      ],
      "source": [
        "image_path=images_path\n",
        "for img in image_path:\n",
        "    print(len(extract_character_es(img)))"
      ]
    },
    {
      "cell_type": "markdown",
      "metadata": {
        "id": "4uS7rdKV7Y5F"
      },
      "source": [
        "# GLCM Feature Extraction"
      ]
    },
    {
      "cell_type": "code",
      "execution_count": 13,
      "metadata": {
        "id": "MiE9xSxWU3qd"
      },
      "outputs": [],
      "source": [
        "def extract_glcm_features(images, distances=[1], angles=[0]):\n",
        "    feature_list = []\n",
        "\n",
        "    for img in images:\n",
        "        gray = cv2.cvtColor(img, cv2.COLOR_BGR2GRAY)\n",
        "        resized = cv2.resize(gray, (32, 32))  # Standard size\n",
        "        glcm = graycomatrix(resized, distances=distances, angles=angles, symmetric=True, normed=True)\n",
        "        P = glcm[:, :, 0, 0]\n",
        "\n",
        "        # Marginal statistics\n",
        "        px = np.sum(P, axis=1)\n",
        "        py = np.sum(P, axis=0)\n",
        "        mean_x = np.sum(px * np.arange(256))\n",
        "        mean_y = np.sum(py * np.arange(256))\n",
        "        var_x = np.sum((np.arange(256) - mean_x)**2 * px)\n",
        "        var_y = np.sum((np.arange(256) - mean_y)**2 * py)\n",
        "\n",
        "        # Energy\n",
        "        energy = np.sum(P**2)\n",
        "\n",
        "        # Entropies\n",
        "        P_nonzero = P[P > 0]\n",
        "        entropy1 = -np.sum(P_nonzero * np.log2(P_nonzero))\n",
        "        entropy2 = entropy(P.flatten(), base=2)\n",
        "        entropy3 = -np.sum(P * np.log2(P + 1e-10))  # epsilon added to avoid log(0)\n",
        "\n",
        "        # Maximum entry\n",
        "        max_entry = np.max(P)\n",
        "\n",
        "        # Correlation metrics\n",
        "        i, j = np.indices(P.shape)\n",
        "        correlation1 = np.sum((i - mean_x) * (j - mean_y) * P) / (np.sqrt(var_x * var_y) + 1e-10)\n",
        "        correlation2 = np.corrcoef(P.flatten(), (i * j).flatten())[0, 1] if P.size > 1 else 0\n",
        "\n",
        "        # Difference histogram\n",
        "        diff_hist = np.zeros(256)\n",
        "        for m in range(256):\n",
        "            for n in range(256):\n",
        "                diff_hist[abs(m - n)] += P[m, n]\n",
        "        diff_energy = np.sum(diff_hist**2)\n",
        "        diff_entropy = -np.sum(diff_hist[diff_hist > 0] * np.log2(diff_hist[diff_hist > 0]))\n",
        "        diff_inertia = np.sum((np.arange(256)**2) * diff_hist)\n",
        "        diff_homogeneity = np.sum(diff_hist / (1 + np.arange(256)**2))\n",
        "\n",
        "        # Sum histogram\n",
        "        sum_hist = np.zeros(511)\n",
        "        for m in range(256):\n",
        "            for n in range(256):\n",
        "                sum_hist[m + n] += P[m, n]\n",
        "        sum_energy = np.sum(sum_hist**2)\n",
        "        sum_entropy = -np.sum(sum_hist[sum_hist > 0] * np.log2(sum_hist[sum_hist > 0]))\n",
        "        sum_variance = np.sum(((np.arange(511) - np.mean(sum_hist))**2) * sum_hist)\n",
        "        sum_mean = np.sum(np.arange(511) * sum_hist)\n",
        "        sum_cluster_shade = np.sum(((np.arange(511) - sum_mean)**3) * sum_hist)\n",
        "        sum_cluster_prominence = np.sum(((np.arange(511) - sum_mean)**4) * sum_hist)\n",
        "\n",
        "        features = [\n",
        "            mean_x, mean_y, var_x, var_y,\n",
        "            energy,\n",
        "            entropy1, entropy2, entropy3,\n",
        "            max_entry,\n",
        "            correlation1, correlation2,\n",
        "            diff_energy, diff_entropy, diff_inertia, diff_homogeneity,\n",
        "            sum_energy, sum_entropy, sum_variance, sum_cluster_shade, sum_cluster_prominence\n",
        "        ]\n",
        "        feature_list.append(features)\n",
        "\n",
        "    return np.array(feature_list)"
      ]
    },
    {
      "cell_type": "code",
      "execution_count": 14,
      "metadata": {
        "colab": {
          "base_uri": "https://localhost:8080/"
        },
        "id": "gz_6xfmGT43b",
        "outputId": "9224891f-3789-40f1-def1-e519556f191b"
      },
      "outputs": [
        {
          "name": "stdout",
          "output_type": "stream",
          "text": [
            "[[1.18823085e+02 1.18823085e+02 3.47321215e+03 ... 7.01046697e+04\n",
            "  6.37990264e+05 3.70294480e+08]\n",
            " [1.16348790e+02 1.16348790e+02 3.13237028e+03 ... 6.64407384e+04\n",
            "  5.96205117e+05 3.30252737e+08]\n",
            " [1.20459173e+02 1.20459173e+02 3.17896608e+03 ... 7.05366387e+04\n",
            "  6.35783824e+05 3.42923043e+08]\n",
            " ...\n",
            " [1.46362903e+02 1.46362903e+02 4.56249229e+03 ... 1.03512193e+05\n",
            "  4.01931545e+05 5.41273303e+08]\n",
            " [1.33986895e+02 1.33986895e+02 6.45945043e+03 ... 9.67473746e+04\n",
            "  1.66140273e+06 9.38596674e+08]\n",
            " [1.40692540e+02 1.40692540e+02 6.65141555e+03 ... 1.04937772e+05\n",
            "  1.43437959e+06 9.40403054e+08]]\n"
          ]
        }
      ],
      "source": [
        "images=images_path\n",
        "for img in images:\n",
        "    print(extract_glcm_features(extract_character_es(img)))"
      ]
    },
    {
      "cell_type": "code",
      "execution_count": null,
      "metadata": {
        "id": "KmF3c7rKTIgR"
      },
      "outputs": [],
      "source": [
        "def process_and_compare_images(folder_path):\n",
        "    printer_features = {}\n",
        "\n",
        "    # Get all PDF files in the folder\n",
        "    pdf_files = [f for f in os.listdir(folder_path) if f.endswith('.pdf') or f.endswith('.PDF')]\n",
        "    print(pdf_files)\n",
        "\n",
        "    if not pdf_files:\n",
        "        print(f\"No PDF files found in the folder: {folder_path}\")\n",
        "        return printer_features\n",
        "\n",
        "    for pdf_file in pdf_files:\n",
        "        print(pdf_file)\n",
        "        pdf_path = os.path.join(folder_path, pdf_file)\n",
        "        output_folder = \"extracted_images\"\n",
        "        images, images_path = extract_images_from_pdf(pdf_path, output_folder)\n",
        "        printer_name = os.path.splitext(pdf_file)[0]  # Use filename without extension as printer name\n",
        "        print(printer_name)\n",
        "\n",
        "        # Extract features for each image\n",
        "        features = []\n",
        "        for image in images_path:\n",
        "            cropped_es = extract_character_es(image)\n",
        "            glcm_features = extract_glcm_features(cropped_es)\n",
        "            features.append(np.mean(glcm_features, axis=0))  # Average features for the printer\n",
        "\n",
        "        # Store the averaged features for the printer\n",
        "        if features: \n",
        "            printer_features[printer_name] = np.mean(features, axis=0)\n",
        "\n",
        "    return printer_features"
      ]
    },
    {
      "cell_type": "code",
      "execution_count": null,
      "metadata": {
        "colab": {
          "base_uri": "https://localhost:8080/"
        },
        "id": "23W0PKxSRk8h",
        "outputId": "0d3211b4-8f0f-4676-b123-7cf11e3a7b31"
      },
      "outputs": [
        {
          "name": "stdout",
          "output_type": "stream",
          "text": [
            "['Brother.pdf', 'kyocera-\\u200e5\\u200e.\\u200e2\\u200e.\\u200e2025-\\u200e11\\u200e.\\u200e28\\u200e.\\u200e59.pdf', 'Xerox_Versalink.PDF']\n",
            "Brother.pdf\n",
            "Brother\n",
            "kyocera-‎5‎.‎2‎.‎2025-‎11‎.‎28‎.‎59.pdf\n",
            "kyocera-‎5‎.‎2‎.‎2025-‎11‎.‎28‎.‎59\n",
            "Xerox_Versalink.PDF\n",
            "Xerox_Versalink\n"
          ]
        },
        {
          "data": {
            "text/plain": [
              "{'Brother': array([1.43459509e+02, 1.43459509e+02, 4.02723555e+03, 4.02723555e+03,\n",
              "        2.15968803e-03, 1.02155252e+01, 1.02155252e+01, 1.02155250e+01,\n",
              "        3.25413768e-02, 9.61256167e-01, 4.83873879e-02, 4.91581556e-02,\n",
              "        4.93233235e+00, 3.17490269e+02, 1.90358503e-01, 5.13925870e-03,\n",
              "        8.13157363e+00, 9.85418378e+04, 4.29764361e+05, 4.60960002e+08]),\n",
              " 'kyocera-\\u200e5\\u200e.\\u200e2\\u200e.\\u200e2025-\\u200e11\\u200e.\\u200e28\\u200e.\\u200e59': array([1.45368766e+02, 1.45368766e+02, 2.40341707e+03, 2.40341707e+03,\n",
              "        2.08323665e-03, 1.02642341e+01, 1.02642341e+01, 1.02642339e+01,\n",
              "        3.38541667e-02, 9.64809855e-01, 4.45244753e-02, 5.44163738e-02,\n",
              "        4.62059452e+00, 1.71821566e+02, 1.79080728e-01, 5.54223777e-03,\n",
              "        7.97757523e+00, 9.42302201e+04, 2.45734719e+05, 1.78335256e+08]),\n",
              " 'Xerox_Versalink': array([1.16267397e+02, 1.16267397e+02, 8.78849392e+03, 8.78849392e+03,\n",
              "        3.46477230e-02, 7.83663090e+00, 7.83663090e+00, 7.83663078e+00,\n",
              "        1.36576125e-01, 9.53012204e-01, 9.06240630e-03, 1.78343846e-01,\n",
              "        4.37245531e+00, 8.34727435e+02, 4.29801968e-01, 3.69886601e-02,\n",
              "        6.77811557e+00, 8.95887536e+04, 1.11349638e+06, 1.89554213e+09])}"
            ]
          },
          "execution_count": 16,
          "metadata": {},
          "output_type": "execute_result"
        }
      ],
      "source": [
        "folder_path = \"/content/folder/scanner dataset\" \n",
        "printer_features = process_and_compare_images(folder_path)\n",
        "printer_features"
      ]
    },
    {
      "cell_type": "code",
      "execution_count": 51,
      "metadata": {
        "id": "lC-CTBGWQRzO"
      },
      "outputs": [],
      "source": [
        "# def compare_image_to_printer(image, printer_features):\n",
        "#     cropped_es = extract_character_es(image)\n",
        "#     glcm_features = extract_glcm_features(cropped_es)\n",
        "#     avg_features = np.mean(glcm_features, axis=0)\n",
        "\n",
        "#     # Compare with stored printer features\n",
        "#     min_diff = float('inf')\n",
        "#     closest_printer = None\n",
        "\n",
        "#     for printer, features in printer_features.items():\n",
        "#         diff = np.linalg.norm(avg_features - features)\n",
        "#         if diff < min_diff:\n",
        "#             min_diff = diff\n",
        "#             closest_printer = printer\n",
        "\n",
        "#     return closest_printer"
      ]
    },
    {
      "cell_type": "code",
      "execution_count": 52,
      "metadata": {
        "id": "XBLFUAVosJxi"
      },
      "outputs": [],
      "source": [
        "# new_image = \"/content/extracted_images/page_1.png\"\n",
        "# closest_printer = compare_image_to_printer(new_image, printer_features)\n",
        "# print(f\"The closest matching printer is: {closest_printer}\")"
      ]
    },
    {
      "cell_type": "code",
      "execution_count": 30,
      "metadata": {
        "id": "0h55wUxa1oym"
      },
      "outputs": [],
      "source": [
        "from sklearn.feature_selection import SequentialFeatureSelector\n",
        "from sklearn.discriminant_analysis import LinearDiscriminantAnalysis\n",
        "from sklearn.preprocessing import MinMaxScaler\n",
        "import numpy as np\n",
        "from collections import Counter"
      ]
    },
    {
      "cell_type": "code",
      "execution_count": 41,
      "metadata": {
        "id": "gX20z1wT1sFO"
      },
      "outputs": [],
      "source": [
        "# Feature Selection\n",
        "def select_features(X, y, n_features=5):\n",
        "    lda = LinearDiscriminantAnalysis()\n",
        "    sfs = SequentialFeatureSelector(lda, n_features_to_select=n_features, direction='forward', cv=3)\n",
        "    sfs.fit(X, y)\n",
        "    return sfs"
      ]
    },
    {
      "cell_type": "code",
      "execution_count": 42,
      "metadata": {
        "id": "sXQLw7bQ1uUS"
      },
      "outputs": [],
      "source": [
        "# Feature Reduction\n",
        "def reduce_features(X, y, n_components=None):\n",
        "    max_components = min(X.shape[1], len(np.unique(y)) - 1)\n",
        "    if n_components is None or n_components > max_components:\n",
        "        n_components = max_components\n",
        "\n",
        "    lda = LinearDiscriminantAnalysis(n_components=n_components)\n",
        "    X_reduced = lda.fit_transform(X, y)\n",
        "    return lda, X_reduced"
      ]
    },
    {
      "cell_type": "code",
      "execution_count": 43,
      "metadata": {
        "id": "HJXdq8UB2Gc1"
      },
      "outputs": [],
      "source": [
        "# Feature Scaling\n",
        "def scale_features(X):\n",
        "    scaler = MinMaxScaler(feature_range=(-1, 1))\n",
        "    X_scaled = scaler.fit_transform(X)\n",
        "    return scaler, X_scaled"
      ]
    },
    {
      "cell_type": "markdown",
      "metadata": {
        "id": "mVpwpo138FRA"
      },
      "source": [
        "# Prediction"
      ]
    },
    {
      "cell_type": "code",
      "execution_count": 44,
      "metadata": {
        "id": "-1TIbInj2I0F"
      },
      "outputs": [],
      "source": [
        "# Distance-based Classifier\n",
        "class DistanceClassifier:\n",
        "    def __init__(self):\n",
        "        self.class_centers = {}\n",
        "        self.thresholds = {}\n",
        "\n",
        "    def fit(self, X, y):\n",
        "        classes = np.unique(y)\n",
        "        for cls in classes:\n",
        "            X_cls = X[y == cls]\n",
        "            center = X_cls.mean(axis=0)\n",
        "            distances = np.linalg.norm(X_cls - center, axis=1)\n",
        "            threshold = distances.mean() + distances.std()\n",
        "            self.class_centers[cls] = center\n",
        "            self.thresholds[cls] = threshold\n",
        "\n",
        "    def predict(self, X):\n",
        "        predictions = []\n",
        "        for x in X:\n",
        "            min_dist = float('inf')\n",
        "            pred_class = 'unknown'\n",
        "            for cls, center in self.class_centers.items():\n",
        "                dist = np.linalg.norm(x - center)\n",
        "                if dist < self.thresholds[cls] and dist < min_dist:\n",
        "                    min_dist = dist\n",
        "                    pred_class = cls\n",
        "            predictions.append(pred_class)\n",
        "        return predictions"
      ]
    },
    {
      "cell_type": "code",
      "execution_count": 45,
      "metadata": {
        "id": "c461zMIs2MtH"
      },
      "outputs": [],
      "source": [
        "# Majority Voting\n",
        "def majority_vote(predictions):\n",
        "    if not predictions:\n",
        "        return None\n",
        "    return Counter(predictions).most_common(1)[0][0]"
      ]
    },
    {
      "cell_type": "code",
      "execution_count": null,
      "metadata": {
        "id": "0idNzBWV5lLP"
      },
      "outputs": [],
      "source": [
        "# Classification\n",
        "def classify_printer(image_path, printer_features):\n",
        "    # Extract cropped 'e's\n",
        "    es = extract_character_es(image_path)\n",
        "    if not es:\n",
        "        print(\"No 'e' characters found.\")\n",
        "        return None, None\n",
        "\n",
        "    # Extract GLCM features\n",
        "    features = extract_glcm_features(es)\n",
        "    if len(features) == 0:\n",
        "        print(\"No features extracted.\")\n",
        "        return None, None\n",
        "\n",
        "    # Prepare data for classification\n",
        "    X_test = np.mean(features, axis=0).reshape(1, -1)  # Average features for all 'e's in the image\n",
        "\n",
        "    # Prepare printer data\n",
        "    printer_names = list(printer_features.keys())\n",
        "    X_train = np.array([printer_features[name] for name in printer_names])\n",
        "    y_train = np.array(range(len(printer_names)))  # Using indices as labels\n",
        "\n",
        "    # If we have only one sample per class, use simple distance comparison\n",
        "    if len(printer_names) <= 1:\n",
        "        return None, None\n",
        "\n",
        "    # Feature selection\n",
        "    from sklearn.feature_selection import VarianceThreshold\n",
        "    selector = VarianceThreshold()\n",
        "    try:\n",
        "        X_train_selected = selector.fit_transform(X_train)\n",
        "        X_test_selected = selector.transform(X_test)\n",
        "    except:\n",
        "        # If variance threshold fails, use all features\n",
        "        X_train_selected = X_train\n",
        "        X_test_selected = X_test\n",
        "\n",
        "    # Feature reduction\n",
        "    try:\n",
        "        lda = LinearDiscriminantAnalysis(n_components=min(len(printer_names)-1, X_train_selected.shape[1]))\n",
        "        X_train_reduced = lda.fit_transform(X_train_selected, y_train)\n",
        "        X_test_reduced = lda.transform(X_test_selected)\n",
        "    except:\n",
        "        # If LDA fails, use PCA or no reduction\n",
        "        from sklearn.decomposition import PCA\n",
        "        pca = PCA(n_components=min(len(printer_names)-1, X_train_selected.shape[1]))\n",
        "        X_train_reduced = pca.fit_transform(X_train_selected)\n",
        "        X_test_reduced = pca.transform(X_test_selected)\n",
        "\n",
        "    # Scaling\n",
        "    scaler = MinMaxScaler(feature_range=(-1, 1))\n",
        "    X_train_scaled = scaler.fit_transform(X_train_reduced)\n",
        "    X_test_scaled = scaler.transform(X_test_reduced)\n",
        "\n",
        "    # Classification using simple distance comparison\n",
        "    distances = np.linalg.norm(X_train_scaled - X_test_scaled, axis=1)\n",
        "    min_dist_idx = np.argmin(distances)\n",
        "    min_dist = distances[min_dist_idx]\n",
        "\n",
        "    # Calculate threshold as mean + std of distances between training samples\n",
        "    if len(printer_names) > 1:\n",
        "        pairwise_dist = []\n",
        "        for i in range(len(X_train_scaled)):\n",
        "            for j in range(i+1, len(X_train_scaled)):\n",
        "                pairwise_dist.append(np.linalg.norm(X_train_scaled[i] - X_train_scaled[j]))\n",
        "        threshold = np.mean(pairwise_dist) + np.std(pairwise_dist)\n",
        "    else:\n",
        "        threshold = 0\n",
        "\n",
        "    if min_dist < threshold:\n",
        "        predicted_printer = printer_names[min_dist_idx]\n",
        "    else:\n",
        "        predicted_printer = None\n",
        "\n",
        "    return predicted_printer, X_test_scaled"
      ]
    },
    {
      "cell_type": "code",
      "execution_count": 47,
      "metadata": {
        "id": "lkLjS9Gi2TNP"
      },
      "outputs": [],
      "source": [
        "def main_workflow(test_image_path,printer_features):\n",
        "\n",
        "    # Classify test image\n",
        "    predicted_printer, _ = classify_printer(test_image_path, printer_features)\n",
        "\n",
        "    print(f\"\\nClassification Result:\")\n",
        "    if predicted_printer:\n",
        "        print(f\"The test image most likely came from: {predicted_printer}\")\n",
        "    else:\n",
        "        print(\"Could not determine the source printer.\")\n",
        "\n",
        "    return predicted_printer"
      ]
    },
    {
      "cell_type": "code",
      "execution_count": 50,
      "metadata": {
        "colab": {
          "base_uri": "https://localhost:8080/"
        },
        "id": "UDRNVBlN2gVW",
        "outputId": "b70bc20f-f2ec-49c3-b433-8aea7c939017"
      },
      "outputs": [
        {
          "name": "stdout",
          "output_type": "stream",
          "text": [
            "Predicted printer: ('Xerox_Versalink', array([[ 1.        , -0.26901366]]))\n"
          ]
        }
      ],
      "source": [
        "test_image_path = \"/content/extracted_images/page_1.png\"  # Image you want to classify\n",
        "predicted_printer = classify_printer(test_image_path, printer_features)\n",
        "print(f\"Predicted printer: {predicted_printer}\")"
      ]
    }
  ],
  "metadata": {
    "accelerator": "GPU",
    "colab": {
      "gpuType": "T4",
      "provenance": []
    },
    "kernelspec": {
      "display_name": "Python 3",
      "name": "python3"
    },
    "language_info": {
      "name": "python"
    }
  },
  "nbformat": 4,
  "nbformat_minor": 0
}
